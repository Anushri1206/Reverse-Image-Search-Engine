{
 "cells": [
  {
   "cell_type": "code",
   "execution_count": null,
   "id": "expressed-filling",
   "metadata": {},
   "outputs": [],
   "source": [
    "from tensorflow.keras.preprocessing.image import ImageDataGenerator\n",
    "from tensorflow.keras.layers import GlobalAveragePooling2D\n",
    "from tensorflow.keras.layers import Dropout\n",
    "from tensorflow.keras.layers import Flatten\n",
    "from tensorflow.keras.layers import Dense\n",
    "from tensorflow.keras.layers import Input\n",
    "from tensorflow.keras.models import Model\n",
    "from tensorflow.keras.models import load_model\n",
    "from tensorflow.keras.optimizers import Adam\n",
    "from tensorflow.keras.applications import ResNet50\n",
    "from sklearn.metrics import classification_report\n",
    "from imutils import paths\n",
    "import matplotlib.pyplot as plt\n",
    "import numpy as np\n",
    "import os"
   ]
  },
  {
   "cell_type": "code",
   "execution_count": null,
   "id": "focal-shakespeare",
   "metadata": {},
   "outputs": [],
   "source": [
    "BASE_PATH = 'model_dataset'\n",
    "TRAIN = 'training'\n",
    "TEST = 'testing'\n",
    "VAL = 'validation'\n",
    "BATCH_SIZE = 15\n",
    "TRAIN_PATH = os.path.join(BASE_PATH,TRAIN)\n",
    "VAL_PATH = os.path.join(BASE_PATH, VAL)\n",
    "TEST_PATH = os.path.join(BASE_PATH, TEST)\n",
    "totalTrain = len(list(paths.list_images(TRAIN_PATH)))\n",
    "totalVal = len(list(paths.list_images(VAL_PATH)))\n",
    "totalTest = len(list(paths.list_images(TEST_PATH)))"
   ]
  },
  {
   "cell_type": "code",
   "execution_count": null,
   "id": "emotional-providence",
   "metadata": {},
   "outputs": [],
   "source": [
    "trainAug = ImageDataGenerator(rotation_range=25,\n",
    "                              zoom_range=0.1,\n",
    "                              width_shift_range=0.1,\n",
    "                              height_shift_range=0.1,\n",
    "                              shear_range=0.2,\n",
    "                              horizontal_flip=True,\n",
    "                              fill_mode=\"nearest\")\n",
    "\n",
    "valAug = ImageDataGenerator()\n",
    "mean = np.array([123.68, 116.779, 103.939], dtype=\"float32\")\n",
    "trainAug.mean = mean\n",
    "valAug.mean = mean"
   ]
  },
  {
   "cell_type": "code",
   "execution_count": null,
   "id": "private-output",
   "metadata": {},
   "outputs": [],
   "source": [
    "# initialize the training generator\n",
    "trainGen = trainAug.flow_from_directory(TRAIN_PATH,\n",
    "                                        class_mode=\"categorical\",\n",
    "                                        target_size=(224, 224),\n",
    "                                        color_mode=\"rgb\",\n",
    "                                        shuffle=True,\n",
    "                                        batch_size=BATCH_SIZE)\n",
    "# initialize the validation generator\n",
    "valGen = valAug.flow_from_directory(VAL_PATH,\n",
    "                                    class_mode=\"categorical\",\n",
    "                                    target_size=(224, 224),\n",
    "                                    color_mode=\"rgb\",\n",
    "                                    shuffle=False,\n",
    "                                    batch_size=BATCH_SIZE)\n",
    "# initialize the testing generator\n",
    "testGen = valAug.flow_from_directory(TEST_PATH,\n",
    "                                     class_mode=\"categorical\",\n",
    "                                     target_size=(224, 224),\n",
    "                                     color_mode=\"rgb\",\n",
    "                                     shuffle=False,\n",
    "                                     batch_size=BATCH_SIZE)"
   ]
  },
  {
   "cell_type": "code",
   "execution_count": null,
   "id": "398861ae",
   "metadata": {},
   "outputs": [],
   "source": [
    "print(testGen.class_indices.keys())"
   ]
  },
  {
   "cell_type": "code",
   "execution_count": null,
   "id": "sweet-helmet",
   "metadata": {},
   "outputs": [],
   "source": [
    "print(\"[INFO] preparing model...\")\n",
    "baseModel = ResNet50(weights=\"imagenet\", include_top=False,\n",
    "    input_tensor=Input(shape=(224, 224, 3)))\n",
    "\n",
    "headModel = baseModel.output\n",
    "headModel = GlobalAveragePooling2D()(headModel)\n",
    "headModel = Dense(256, activation=\"relu\")(headModel)\n",
    "headModel = Dropout(0.2)(headModel)\n",
    "headModel = Dense(27, activation=\"softmax\")(headModel)\n",
    "\n",
    "model = Model(inputs=baseModel.input, outputs=headModel)\n",
    "for layer in baseModel.layers:\n",
    "    layer.trainable = False"
   ]
  },
  {
   "cell_type": "code",
   "execution_count": null,
   "id": "selective-lying",
   "metadata": {},
   "outputs": [],
   "source": [
    "INIT_LR = 1e-4\n",
    "NUM_EPOCHS = 12\n",
    "opt = Adam(lr=INIT_LR, decay=INIT_LR / NUM_EPOCHS)\n",
    "model.compile(loss=\"binary_crossentropy\", optimizer=opt,\n",
    "    metrics=[\"accuracy\"])\n",
    "print(\"[INFO] training model...\")\n",
    "H = model.fit_generator(\n",
    "    trainGen,\n",
    "    steps_per_epoch=totalTrain // BATCH_SIZE,\n",
    "    validation_data=valGen,\n",
    "    validation_steps=totalVal // BATCH_SIZE,\n",
    "    epochs=NUM_EPOCHS)"
   ]
  },
  {
   "cell_type": "code",
   "execution_count": null,
   "id": "amino-voice",
   "metadata": {},
   "outputs": [],
   "source": [
    "MODEL_PATH = os.path.sep.join([\"output\",\"resnet1\"])\n",
    "print(\"[INFO] evaluating network...\")\n",
    "testGen.reset()\n",
    "predIdxs = model.predict_generator(testGen,\n",
    "\tsteps=(totalTest // BATCH_SIZE) + 1)\n",
    "\n",
    "predIdxs = np.argmax(predIdxs, axis=1)\n",
    "print(classification_report(testGen.classes, predIdxs,\n",
    "\ttarget_names=testGen.class_indices.keys()))\n",
    "print(\"[INFO] saving model...\")\n",
    "model.save(MODEL_PATH, save_format=\"h5\")"
   ]
  },
  {
   "cell_type": "code",
   "execution_count": null,
   "id": "passive-protein",
   "metadata": {},
   "outputs": [],
   "source": [
    "MODEL_PATH = os.path.sep.join([\"output\",\"resnet1\"])\n",
    "model = load_model(MODEL_PATH)\n",
    "print(\"[INFO] evaluating network...\")\n",
    "testGen.reset()\n",
    "predIdxs = model.predict_generator(testGen,\n",
    "\tsteps=(totalTest // BATCH_SIZE) + 1)\n",
    "\n",
    "predIdxs = np.argmax(predIdxs, axis=1)\n",
    "print(classification_report(testGen.classes, predIdxs,\n",
    "\ttarget_names=testGen.class_indices.keys()))\n"
   ]
  },
  {
   "cell_type": "code",
   "execution_count": null,
   "id": "speaking-curve",
   "metadata": {},
   "outputs": [],
   "source": [
    "from sklearn.metrics import confusion_matrix\n",
    "import seaborn as sns\n",
    "import pandas\n",
    "cm = confusion_matrix(testGen.classes, predIdxs)"
   ]
  },
  {
   "cell_type": "code",
   "execution_count": null,
   "id": "entertaining-major",
   "metadata": {},
   "outputs": [],
   "source": [
    "sns.set(font_scale=1)\n",
    "plt.figure(figsize = (12,8))\n",
    "sns.heatmap(cm,annot = True,cmap='PuBu')"
   ]
  },
  {
   "cell_type": "code",
   "execution_count": null,
   "id": "respective-damages",
   "metadata": {},
   "outputs": [],
   "source": [
    "model.summary()"
   ]
  }
 ],
 "metadata": {
  "kernelspec": {
   "display_name": "Python 3",
   "language": "python",
   "name": "python3"
  },
  "language_info": {
   "codemirror_mode": {
    "name": "ipython",
    "version": 3
   },
   "file_extension": ".py",
   "mimetype": "text/x-python",
   "name": "python",
   "nbconvert_exporter": "python",
   "pygments_lexer": "ipython3",
   "version": "3.8.8"
  }
 },
 "nbformat": 4,
 "nbformat_minor": 5
}
