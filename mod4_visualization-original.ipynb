{
 "cells": [
  {
   "cell_type": "code",
   "execution_count": null,
   "id": "eb1243f2",
   "metadata": {},
   "outputs": [],
   "source": [
    "import numpy as np\n",
    "import os\n",
    "from PIL import Image\n",
    "from pathlib import Path\n",
    "import cv2\n",
    "from IPython.display import display\n",
    "import matplotlib.pyplot as plt\n",
    "import pickle"
   ]
  },
  {
   "cell_type": "code",
   "execution_count": null,
   "id": "2e70bd0b",
   "metadata": {},
   "outputs": [],
   "source": [
    "extensions = ['.npy']\n",
    "def get_file_list(root_dir):\n",
    "    file_list = []\n",
    "    counter = 1\n",
    "    for root, directories, filenames in os.walk(root_dir):\n",
    "        for filename in filenames:\n",
    "            if any(ext in filename for ext in extensions):\n",
    "                image = './images_aggregate'+'/'+filename\n",
    "                image = image.replace('.npy','.jpg')\n",
    "                file_list.append(image)\n",
    "                counter += 1\n",
    "    return file_list"
   ]
  },
  {
   "cell_type": "code",
   "execution_count": null,
   "id": "4851250e",
   "metadata": {},
   "outputs": [],
   "source": [
    "root_dir = './feature_vectors_resnet/train'\n",
    "filenames = sorted(get_file_list(root_dir))"
   ]
  },
  {
   "cell_type": "code",
   "execution_count": null,
   "id": "ab144c88",
   "metadata": {},
   "outputs": [],
   "source": [
    "pickle.dump(filenames, open('filenames-features-origin.pickle','wb'))"
   ]
  },
  {
   "cell_type": "code",
   "execution_count": null,
   "id": "7c30c013",
   "metadata": {},
   "outputs": [],
   "source": [
    "filenames = pickle.load(open('filenames-features-origin.pickle', 'rb'))"
   ]
  },
  {
   "cell_type": "code",
   "execution_count": null,
   "id": "614d43ef",
   "metadata": {},
   "outputs": [],
   "source": [
    "features = []\n",
    "img_paths = []\n",
    "\n",
    "for feature_path in Path(\"./feature_vectors_resnet/train\").glob(\"*.npy\"):\n",
    "    fv = np.load(feature_path)\n",
    "    features.append(fv)\n",
    "    img_paths.append(Path(\"./images_aggregate\") / (feature_path.stem + \".jpg\"))\n",
    "features = np.array(features)"
   ]
  },
  {
   "cell_type": "code",
   "execution_count": null,
   "id": "b7ce807a",
   "metadata": {},
   "outputs": [],
   "source": [
    "from sklearn.decomposition import PCA\n",
    "from sklearn.manifold import TSNE"
   ]
  },
  {
   "cell_type": "code",
   "execution_count": null,
   "id": "af82b333",
   "metadata": {},
   "outputs": [],
   "source": [
    "class_ids = []\n",
    "for i in range(len(features)):\n",
    "    class_ids.append(i)"
   ]
  },
  {
   "cell_type": "code",
   "execution_count": null,
   "id": "c4a51367",
   "metadata": {},
   "outputs": [],
   "source": [
    "num_feature_dimensions=256     \n",
    "pca = PCA(n_components = num_feature_dimensions)\n",
    "pca.fit(features)\n",
    "feature_list_compressed = pca.transform(features)\n",
    "\n",
    "selected_features = feature_list_compressed\n",
    "selected_class_ids = class_ids\n",
    "\n",
    "tsne_results = TSNE(n_components=2,verbose=1,metric='euclidean').fit_transform(selected_features)\n",
    "\n",
    "colormap = plt.cm.get_cmap('coolwarm')\n",
    "scatter_plot = plt.scatter(tsne_results[:,0],tsne_results[:,1], c = selected_class_ids, cmap=colormap)\n",
    "plt.colorbar(scatter_plot)\n",
    "plt.show()"
   ]
  },
  {
   "cell_type": "code",
   "execution_count": null,
   "id": "c44fafc0",
   "metadata": {},
   "outputs": [],
   "source": [
    "from matplotlib.offsetbox import OffsetImage, AnnotationBbox\n",
    "from matplotlib.cbook import get_sample_data"
   ]
  },
  {
   "cell_type": "code",
   "execution_count": null,
   "id": "069fa876",
   "metadata": {},
   "outputs": [],
   "source": [
    "def plot_images_in_2d(x, y, image_paths, axis=None, zoom=1):\n",
    "    if axis is None:\n",
    "        axis = plt.gca()\n",
    "    x, y = np.atleast_1d(x, y)\n",
    "    for x0, y0, image_path in zip(x, y, image_paths):\n",
    "        image = Image.open(image_path)\n",
    "        image.thumbnail((100, 100), Image.ANTIALIAS)\n",
    "        img = OffsetImage(image, zoom=zoom)\n",
    "        anno_box = AnnotationBbox(img, (x0, y0),\n",
    "                                  xycoords='data',\n",
    "                                  frameon=False)\n",
    "        axis.add_artist(anno_box)\n",
    "    axis.update_datalim(np.column_stack([x, y]))\n",
    "    axis.autoscale()\n",
    "    \n",
    "def show_tsne(x, y, selected_filenames):\n",
    "    fig, axis = plt.subplots()\n",
    "    fig.set_size_inches(22, 22, forward=True)\n",
    "    plot_images_in_2d(x, y, selected_filenames, zoom=0.3, axis=axis)\n",
    "    plt.show()"
   ]
  },
  {
   "cell_type": "code",
   "execution_count": null,
   "id": "93df37b4",
   "metadata": {},
   "outputs": [],
   "source": [
    "def tsne_to_grid_plotter_manual(x, y, selected_filenames):\n",
    "    S = 2000\n",
    "    s = 100\n",
    "    x = (x - min(x)) / (max(x) - min(x))\n",
    "    y = (y - min(y)) / (max(y) - min(y))\n",
    "    x_values = []\n",
    "    y_values = []\n",
    "    filename_plot = []\n",
    "    x_y_dict = {}\n",
    "    for i, image_path in enumerate(selected_filenames):\n",
    "        a = np.ceil(x[i] * (S - s))\n",
    "        b = np.ceil(y[i] * (S - s))\n",
    "        a = int(a - np.mod(a, s))\n",
    "        b = int(b - np.mod(b, s))\n",
    "        if str(a) + \"|\" + str(b) in x_y_dict:\n",
    "            continue\n",
    "        x_y_dict[str(a) + \"|\" + str(b)] = 1\n",
    "        x_values.append(a)\n",
    "        y_values.append(b)\n",
    "        filename_plot.append(image_path)\n",
    "    fig, axis = plt.subplots()\n",
    "    fig.set_size_inches(22, 22, forward=True)\n",
    "    plot_images_in_2d(x_values, y_values, filename_plot, zoom=.58, axis=axis)\n",
    "    plt.show()"
   ]
  },
  {
   "cell_type": "code",
   "execution_count": null,
   "id": "4e645df6",
   "metadata": {},
   "outputs": [],
   "source": [
    "# Perform PCA over the features\n",
    "num_feature_dimensions=100      # Set the number of features\n",
    "pca = PCA(n_components = num_feature_dimensions)\n",
    "pca.fit(features)\n",
    "feature_list_compressed = pca.transform(features)\n",
    "\n",
    "# For speed and clarity, we'll analyze about first half of the dataset.\n",
    "selected_features = feature_list_compressed\n",
    "selected_class_ids = class_ids\n",
    "selected_filenames = filenames\n",
    "\n",
    "tsne_results = TSNE(n_components=2,verbose=1,metric='euclidean').fit_transform(selected_features)\n",
    "\n",
    "# Plot a scatter plot from the generated t-SNE results\n",
    "colormap = plt.cm.get_cmap('coolwarm')\n",
    "scatter_plot = show_tsne(tsne_results[:,0],tsne_results[:,1], selected_filenames)\n",
    "plt.show()"
   ]
  },
  {
   "cell_type": "code",
   "execution_count": null,
   "id": "8c4d83b1",
   "metadata": {},
   "outputs": [],
   "source": [
    "num_feature_dimensions=512   \n",
    "pca = PCA(n_components = num_feature_dimensions)\n",
    "pca.fit(features)\n",
    "feature_list_compressed = pca.transform(features)\n",
    "\n",
    "selected_features = feature_list_compressed\n",
    "selected_filenames = filenames\n",
    "\n",
    "tsne_results = TSNE(n_components=2,verbose=1,metric='euclidean').fit_transform(selected_features)\n",
    "\n",
    "scatter_plot = tsne_to_grid_plotter_manual(tsne_results[:,0],tsne_results[:,1], selected_filenames)\n",
    "plt.show()"
   ]
  },
  {
   "cell_type": "code",
   "execution_count": null,
   "id": "4fef2617",
   "metadata": {},
   "outputs": [],
   "source": []
  }
 ],
 "metadata": {
  "kernelspec": {
   "display_name": "Python 3",
   "language": "python",
   "name": "python3"
  },
  "language_info": {
   "codemirror_mode": {
    "name": "ipython",
    "version": 3
   },
   "file_extension": ".py",
   "mimetype": "text/x-python",
   "name": "python",
   "nbconvert_exporter": "python",
   "pygments_lexer": "ipython3",
   "version": "3.8.8"
  }
 },
 "nbformat": 4,
 "nbformat_minor": 5
}
