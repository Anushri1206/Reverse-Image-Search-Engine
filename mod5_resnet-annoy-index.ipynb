{
 "cells": [
  {
   "cell_type": "code",
   "execution_count": null,
   "metadata": {},
   "outputs": [],
   "source": [
    "import numpy as np\n",
    "import os\n",
    "from PIL import Image\n",
    "from pathlib import Path\n",
    "import cv2\n",
    "from IPython.display import display\n",
    "import matplotlib.pyplot as plt\n",
    "import scipy\n",
    "import time\n",
    "from sklearn.decomposition import PCA"
   ]
  },
  {
   "cell_type": "code",
   "execution_count": null,
   "metadata": {},
   "outputs": [],
   "source": [
    "features = []\n",
    "img_paths = []\n",
    "\n",
    "for feature_path in Path(\"./feature_vectors_resnet2/train\").glob(\"*.npy\"):\n",
    "    fv = np.load(feature_path)\n",
    "    features.append(fv)\n",
    "    img_paths.append(Path(\"./images_aggregate\") / (feature_path.stem + \".jpg\"))    \n"
   ]
  },
  {
   "cell_type": "code",
   "execution_count": null,
   "metadata": {},
   "outputs": [],
   "source": [
    "features_test = []\n",
    "test_imgs = []\n",
    "i=0\n",
    "for feature_path in Path(\"./feature_vectors_resnet2/test\").glob(\"*.npy\"):\n",
    "    fv = np.load(feature_path)\n",
    "    features_test.append(fv)\n",
    "    test_imgs.append(Path(\"./images_aggregate\") / (feature_path.stem + \".jpg\"))     \n"
   ]
  },
  {
   "cell_type": "code",
   "execution_count": null,
   "metadata": {},
   "outputs": [],
   "source": [
    "from annoy import AnnoyIndex"
   ]
  },
  {
   "cell_type": "code",
   "execution_count": null,
   "metadata": {},
   "outputs": [],
   "source": [
    "feature_dim = len(features[0])\n",
    "ann_index = AnnoyIndex(feature_dim, metric='angular')"
   ]
  },
  {
   "cell_type": "code",
   "execution_count": null,
   "metadata": {},
   "outputs": [],
   "source": [
    "for i in range(len(features)):\n",
    "    ann_index.add_item(i, features[i])\n",
    "\n",
    "ann_index.build(80)"
   ]
  },
  {
   "cell_type": "code",
   "execution_count": null,
   "metadata": {
    "scrolled": true
   },
   "outputs": [],
   "source": [
    "ann_index.save('image_indexing')"
   ]
  },
  {
   "cell_type": "code",
   "execution_count": null,
   "metadata": {},
   "outputs": [],
   "source": [
    "ann_index = AnnoyIndex(len(features[0]),metric = 'angular')\n",
    "ann_index.load('image_indexing')"
   ]
  },
  {
   "cell_type": "code",
   "execution_count": null,
   "metadata": {},
   "outputs": [],
   "source": [
    "num=10\n",
    "N = 10"
   ]
  },
  {
   "cell_type": "code",
   "execution_count": null,
   "metadata": {
    "scrolled": false
   },
   "outputs": [],
   "source": [
    "results = []\n",
    "fig, ax = plt.subplots(num,N+1,figsize=(20, 20))\n",
    "plt.tight_layout()\n",
    "\n",
    "start = time.time()\n",
    "for k in range(len(features_test)):\n",
    "    \n",
    "    \n",
    "    if(k==num):\n",
    "        break\n",
    "    \n",
    "    feature = np.array(features_test[k])\n",
    "    ax[k,0].imshow((Image.open(test_imgs[k])))\n",
    "\n",
    "    ax[k,0].axis('off')\n",
    "    ax[k,0].set_title(\"Original\",fontsize = 14, fontweight ='bold') \n",
    "    res = ann_index.get_nns_by_vector(feature, N ,include_distances=True)\n",
    "    print(\"Result for Image: \",res)\n",
    "    results.append(res)\n",
    "    for j in range(len(res[0])):\n",
    "        for i in range(len(img_paths)):\n",
    "\n",
    "            if(i==res[0][j]):\n",
    "                img = Image.open(img_paths[i])\n",
    "                ax[k,j+1].imshow(img)\n",
    "                ax[k,j+1].axis('off')\n",
    "                ax[k,j+1].set_title(\"Similar image {} \\n {:.5f}\".format(j+1,res[1][j]),fontsize = 14, fontweight ='bold')\n",
    "end= time.time()   \n",
    "        \n",
    "                "
   ]
  },
  {
   "cell_type": "code",
   "execution_count": null,
   "metadata": {},
   "outputs": [],
   "source": [
    "print(\"Time elapsed for retrieving 10 images for 10 queries: \",end-start)"
   ]
  },
  {
   "cell_type": "code",
   "execution_count": null,
   "metadata": {},
   "outputs": [],
   "source": [
    "features = []\n",
    "img_paths = []\n",
    "\n",
    "for feature_path in Path(\"./static/feature\").glob(\"*.npy\"):\n",
    "    fv = np.load(feature_path)\n",
    "    features.append(fv)\n",
    "    img_paths.append(Path(\"./images_aggregate\") / (feature_path.stem + \".jpg\"))    "
   ]
  },
  {
   "cell_type": "code",
   "execution_count": null,
   "metadata": {},
   "outputs": [],
   "source": [
    "feature_dim = len(features[0])\n",
    "ann_index = AnnoyIndex(feature_dim, metric='angular')"
   ]
  },
  {
   "cell_type": "code",
   "execution_count": null,
   "metadata": {},
   "outputs": [],
   "source": [
    "for i in range(len(features)):\n",
    "    ann_index.add_item(i, features[i])\n",
    "\n",
    "ann_index.build(80)"
   ]
  },
  {
   "cell_type": "code",
   "execution_count": null,
   "metadata": {},
   "outputs": [],
   "source": [
    "ann_index.save('image_indexing_final')"
   ]
  }
 ],
 "metadata": {
  "kernelspec": {
   "display_name": "Python 3",
   "language": "python",
   "name": "python3"
  },
  "language_info": {
   "codemirror_mode": {
    "name": "ipython",
    "version": 3
   },
   "file_extension": ".py",
   "mimetype": "text/x-python",
   "name": "python",
   "nbconvert_exporter": "python",
   "pygments_lexer": "ipython3",
   "version": "3.8.8"
  }
 },
 "nbformat": 4,
 "nbformat_minor": 4
}
