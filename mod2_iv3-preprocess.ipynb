{
 "cells": [
  {
   "cell_type": "code",
   "execution_count": null,
   "id": "059bd070",
   "metadata": {},
   "outputs": [],
   "source": [
    "from tensorflow.keras.preprocessing import image\n",
    "from tensorflow.keras.models import Model\n",
    "from keras.applications.inception_v3 import InceptionV3\n",
    "from keras.applications.inception_v3 import preprocess_input \n",
    "import numpy as np\n",
    "from PIL import Image\n",
    "import os\n",
    "\n",
    "directories = ['feature_vectors_iv3','feature_vectors_iv3/train','feature_vectors_iv3/test']\n",
    "\n",
    "for dir in directories:\n",
    "    if not os.path.exists(dir):\n",
    "        os.mkdir(dir)"
   ]
  },
  {
   "cell_type": "code",
   "execution_count": null,
   "id": "46669eaa",
   "metadata": {},
   "outputs": [],
   "source": [
    "class FeatureExtractor:\n",
    "    def __init__(self):\n",
    "        \n",
    "        self.model = InceptionV3(weights='imagenet',include_top=False,pooling='max')\n",
    "        \n",
    "\n",
    "    def extract(self, img):\n",
    "        img = img.resize((299, 299))  \n",
    "        img = img.convert('RGB')\n",
    "        \n",
    "        img1 = img.copy()\n",
    "        data = img1.getdata()\n",
    "\n",
    "        r = [(d[0], 0, 0) for d in data]\n",
    "        g = [(0, d[1], 0) for d in data]\n",
    "        b = [(0, 0, d[2]) for d in data]\n",
    "\n",
    "        img1.putdata(r)\n",
    "        display(img1)\n",
    "        \n",
    "        img1.putdata(g)\n",
    "        display(img1)\n",
    "        \n",
    "        img1.putdata(b)\n",
    "        display(img1)\n",
    "        \n",
    "        x = image.img_to_array(img)  \n",
    "        x = np.expand_dims(x, axis=0)  \n",
    "        x = preprocess_input(x)  \n",
    "        feature = self.model.predict(x)[0]  \n",
    "        return feature / np.linalg.norm(feature) "
   ]
  },
  {
   "cell_type": "code",
   "execution_count": null,
   "id": "f6d6109e",
   "metadata": {},
   "outputs": [],
   "source": [
    "from pathlib import Path\n",
    "fe = FeatureExtractor()\n",
    "\n",
    "i = 0\n",
    "for img_path in sorted(Path(\"./images_aggregate\").glob(\"*.jpg\")):\n",
    "    i+=1\n",
    "    feature = fe.extract(img=Image.open(img_path))\n",
    "    \n",
    "    if(i%5==0 and i%10!=0):\n",
    "        feature_path = Path(\"./feature_vectors_iv3/test\") / (img_path.stem + \".npy\")  \n",
    "        np.save(feature_path, feature)\n",
    "    else:\n",
    "        feature_path = Path(\"./feature_vectors_iv3/train\") / (img_path.stem + \".npy\")  \n",
    "        np.save(feature_path, feature)"
   ]
  }
 ],
 "metadata": {
  "kernelspec": {
   "display_name": "Python 3",
   "language": "python",
   "name": "python3"
  },
  "language_info": {
   "codemirror_mode": {
    "name": "ipython",
    "version": 3
   },
   "file_extension": ".py",
   "mimetype": "text/x-python",
   "name": "python",
   "nbconvert_exporter": "python",
   "pygments_lexer": "ipython3",
   "version": "3.8.8"
  }
 },
 "nbformat": 4,
 "nbformat_minor": 5
}
